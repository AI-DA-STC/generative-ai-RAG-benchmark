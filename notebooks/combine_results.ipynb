{
 "cells": [
  {
   "cell_type": "code",
   "execution_count": 2,
   "metadata": {},
   "outputs": [],
   "source": [
    "import pandas as pd\n",
    "import os\n",
    "import glob\n",
    "\n",
    "\n",
    "import pyprojroot\n",
    "import sys\n",
    "from pathlib import Path\n",
    "root = pyprojroot.find_root(pyprojroot.has_dir(\"config\"))\n",
    "sys.path.append(str(root))\n",
    "\n",
    "# input files\n",
    "ROOT_FOLDER = \"benchmark_7/0\"  # Set your root folder path here\n",
    "base_path = str(Path(root,ROOT_FOLDER))\n",
    "\n",
    "# Output files\n",
    "OUTPUT_FILE = \"data/output/recursive_character_newline.csv\"\n",
    "output_path = str(Path(root,OUTPUT_FILE))\n",
    "os.makedirs(str(Path(root,os.path.dirname(OUTPUT_FILE))), exist_ok=True)"
   ]
  },
  {
   "cell_type": "code",
   "execution_count": 40,
   "metadata": {},
   "outputs": [
    {
     "name": "stdout",
     "output_type": "stream",
     "text": [
      "Combined output created: data/output/recursive_character_newline.csv\n"
     ]
    }
   ],
   "source": [
    "\n",
    "# Define directory structure to process (relative to root/0/)\n",
    "SUB_DIRS = [\n",
    "    \"query_expansion_node_line/query_expansion\",\n",
    "    \"retrieve_node_line/retrieval\",\n",
    "    \"post_retrieve_node_line/generator\",\n",
    "    \"post_retrieve_node_line/passage_compressor\",\n",
    "    \"post_retrieve_node_line/passage_filter\",\n",
    "    \"post_retrieve_node_line/passage_reranker\",\n",
    "    \"post_retrieve_node_line/prompt_maker\"\n",
    "]\n",
    "\n",
    "def process_directory(base_path, sub_dir, output_handle):\n",
    "    \"\"\"Process CSV files in a directory and write to output\"\"\"\n",
    "    full_path = os.path.join(base_path, sub_dir)\n",
    "    csv_files = glob.glob(os.path.join(full_path, \"*.csv\"))\n",
    "    \n",
    "    if not csv_files:\n",
    "        print(f\"No CSV files found in {full_path}\")\n",
    "        return\n",
    "    \n",
    "    # Combine all CSVs in directory\n",
    "    dfs = [pd.read_csv(f) for f in csv_files]\n",
    "    combined_df = pd.concat(dfs, ignore_index=True)\n",
    "    \n",
    "    # Write section header and data\n",
    "    output_handle.write(f\"[{sub_dir}]\\n\")\n",
    "    combined_df.to_csv(output_handle, index=False)\n",
    "    output_handle.write(\"\\n\\n\")\n",
    "\n",
    "\n",
    "with open(output_path, \"w\", newline=\"\") as out_file:\n",
    "    for sub_dir in SUB_DIRS:\n",
    "        process_directory(base_path, sub_dir, out_file)\n",
    "\n",
    "print(f\"Combined output created: {OUTPUT_FILE}\")"
   ]
  }
 ],
 "metadata": {
  "kernelspec": {
   "display_name": "autoRAG",
   "language": "python",
   "name": "python3"
  },
  "language_info": {
   "codemirror_mode": {
    "name": "ipython",
    "version": 3
   },
   "file_extension": ".py",
   "mimetype": "text/x-python",
   "name": "python",
   "nbconvert_exporter": "python",
   "pygments_lexer": "ipython3",
   "version": "3.10.13"
  }
 },
 "nbformat": 4,
 "nbformat_minor": 2
}
